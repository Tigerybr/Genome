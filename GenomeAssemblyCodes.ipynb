{
 "cells": [
  {
   "cell_type": "markdown",
   "metadata": {},
   "source": [
    "# Grand Challenge - Genome Assembly\n",
    "\n",
    "CSCI 3104 - Algorithm, Spring 2019\n",
    "\n",
    "Team Name: Ce Qiu, Borui Yu\n",
    "\n",
    "-----"
   ]
  },
  {
   "cell_type": "markdown",
   "metadata": {},
   "source": [
    "### Algorithm Design"
   ]
  },
  {
   "cell_type": "code",
   "execution_count": 1,
   "metadata": {},
   "outputs": [],
   "source": [
    "# this function calculating the overlaping length from read1 to read2\n",
    "# example: read1 = \"AAAATCTCCAGTGCCCAAGA\"\n",
    "#          read2 =            \"TGCCCAAGACCACGGGCGCT\"\n",
    "# overlap(read1, read2) will return 9\n",
    "def overlap(read1, read2):\n",
    "    j = 0   # index in read2\n",
    "    res = 0 # overlap result\n",
    "    for i in range(len(read1)):\n",
    "        if read1[i] == read2[j]:\n",
    "            # if has overlap\n",
    "            j += 1\n",
    "            res += 1\n",
    "        else: # if the continuous overlap break\n",
    "            j = 0\n",
    "            res = 0\n",
    "            if read1[i] == read2[j]:\n",
    "                j += 1\n",
    "                res += 1\n",
    "    return res"
   ]
  },
  {
   "cell_type": "code",
   "execution_count": 20,
   "metadata": {},
   "outputs": [],
   "source": [
    "# this function read the .fq file and create a graph basing on all the reads\n",
    "# example: read1 = \"AAAATCTCCAGTGCCCAAGA\"\n",
    "#          read2 =            \"TGCCCAAGACCACGGGCGCT\"\n",
    "# graph_generator(filename) will return [[0, 9], [0, 0]]\n",
    "# thus, we can create a graph with: read[i] is node[i], weight(v, u) is overlap(v, u)\n",
    "# in other words, graph[0][1] is overlap value from read0 to read1 is 9\n",
    "def graph_generator(filename):\n",
    "    reads = [] # empty list for saving reads\n",
    "    count = 3  # file example see below:\n",
    "    # line 1, count = 3: @random ......\n",
    "    # line 2, count = 4: read we need\n",
    "    # line 3, count = 5: +\n",
    "    # line 4, count = 6: some repeated letter\n",
    "    # line 5, count = 7: @random ......\n",
    "    # line 6, count = 8: read we need\n",
    "    # ......\n",
    "    # when count % 4 == 0, we collect the reads\n",
    "    for line in open(filename):\n",
    "        if count % 4 == 0:\n",
    "            reads.append(line.strip())\n",
    "        count += 1\n",
    "    # create the graph by using list:\n",
    "    # example, we have 3 reads: r1, r2, r3\n",
    "    # we create a matrix represent the overlap value from rows to column\n",
    "    # overlap = [[       0      , overlap(r1,r2), overlap(r1,r3)],\n",
    "    #            [overlap(r2,r1),        0      , overlap(r2,r3)],\n",
    "    #            [overlap(r3,r1), overlap(r3,r2),        0      ]]\n",
    "    graph = []\n",
    "    for r1 in reads:     # for each read in the set\n",
    "        sub_graph = []\n",
    "        for r2 in reads: # finding the weight to all others\n",
    "            if r1 == r2: # ignore self-loop\n",
    "                sub_graph.append(0)\n",
    "            else:\n",
    "                o = overlap(r1, r2)\n",
    "                if o > 0: # this can be change, at least how many overlap we want\n",
    "                    sub_graph.append(o)\n",
    "                else: # less than minimum overlap requirement, ignore\n",
    "                    sub_graph.append(0)\n",
    "        graph.append(sub_graph)\n",
    "    return graph, reads"
   ]
  },
  {
   "cell_type": "code",
   "execution_count": 3,
   "metadata": {},
   "outputs": [],
   "source": [
    "# finding the index of the maximum overlap value in graph\n",
    "def find_max(graph):\n",
    "    row, column, max_v = 0, 0, 0\n",
    "    for i in range(len(graph)):\n",
    "        if max(graph[i]) > max_v:\n",
    "            max_v = max(graph[i])\n",
    "            row = i\n",
    "            column = graph[i].index(max_v)\n",
    "    return row, column, max_v"
   ]
  },
  {
   "cell_type": "code",
   "execution_count": 4,
   "metadata": {},
   "outputs": [],
   "source": [
    "# this function is combine the sub_graph in to result graph\n",
    "def combine(res, sub_graph):\n",
    "    if res == []: # if there is no sub-graph in res\n",
    "        res.append(sub_graph)\n",
    "    else:\n",
    "        check = False\n",
    "        for i in res:\n",
    "            if sub_graph[len(sub_graph) - 1] == i[0]:\n",
    "                if sub_graph[0] not in i:\n",
    "                    # example:\n",
    "                    # sub_graph = [... a]\n",
    "                    #             i = [a ...]\n",
    "                    sub_graph = sub_graph[: len(sub_graph) - 1] + i\n",
    "                    res.remove(i)\n",
    "                    res = combine(res, sub_graph)\n",
    "                check = True\n",
    "            if sub_graph[0] == i[len(i) - 1]:\n",
    "                # example:\n",
    "                # sub_graph = [a ...]\n",
    "                #     i = [... a]\n",
    "                sub_graph = i + sub_graph[1 :]\n",
    "                res.remove(i)\n",
    "                res = combine(res, sub_graph)\n",
    "                check = True\n",
    "        if check == False:\n",
    "            res.append(sub_graph)\n",
    "    return res"
   ]
  },
  {
   "cell_type": "code",
   "execution_count": 5,
   "metadata": {},
   "outputs": [],
   "source": [
    "# this function is creating a result graph containing all maximum contigs\n",
    "# basically, it pick the largest overlap value of (v, u) as a sub-graph and add it into result\n",
    "# also, reset (v, u) and (u, v) = 0\n",
    "# if the termination u existed, ignore that and set (v, u) = 0\n",
    "def genome_assembly(graph):\n",
    "    res = [] # result graph\n",
    "    nod = [] # record which col node has optimal edge\n",
    "    row, col, value = find_max(graph)\n",
    "    while value != 0: # when graph still have overlap\n",
    "        if col not in nod:\n",
    "            nod.append(col)\n",
    "            sub_graph = [row, col] # enter a new graph from row to col\n",
    "            res = combine(res, sub_graph) # combine the sub_graph into result\n",
    "            graph[row][col] = 0 # set the maximum edge = 0\n",
    "            graph[col][row] = 0 # self loop = 0\n",
    "        else: # if col node already has optimal edge\n",
    "            graph[row][col] = 0 # set the maximum edge = 0\n",
    "        row, col, value = find_max(graph)\n",
    "    return res"
   ]
  },
  {
   "cell_type": "code",
   "execution_count": 11,
   "metadata": {},
   "outputs": [],
   "source": [
    "# this function returns the contigs in order by length\n",
    "def contigs(res, graph):\n",
    "    c = [] # contigs\n",
    "    # calculating all the overlap\n",
    "    overlap = []\n",
    "    for i in res:\n",
    "        o = 0\n",
    "        for j in range(len(i) - 1):\n",
    "            o += graph[i[j]][i[j + 1]]\n",
    "        overlap.append(o)\n",
    "    # set of start\n",
    "    # because it might has repeated loop\n",
    "    # we need to ignor the small overlap one\n",
    "    s = []\n",
    "    while(overlap != []):\n",
    "        # find the maximum overlap\n",
    "        x = overlap.index(max(overlap))\n",
    "        check = False\n",
    "        for i in res[x]:\n",
    "            if i in s:\n",
    "                check = True\n",
    "        if check == False:\n",
    "            s.append(res[x][0])\n",
    "            c.append(res[x])\n",
    "        overlap.remove(overlap[x])\n",
    "        res.remove(res[x])\n",
    "    return c"
   ]
  },
  {
   "cell_type": "code",
   "execution_count": 22,
   "metadata": {},
   "outputs": [],
   "source": [
    "# this function returns the n50 value\n",
    "def N50_Calculator(c, graph):\n",
    "    length = []\n",
    "    for i in c:\n",
    "        l = 500\n",
    "        for j in range(len(i) - 1):\n",
    "            l -= graph[i[j]][i[j + 1]]\n",
    "            l += 500\n",
    "        length.append(l)\n",
    "    half = sum(length) / 2\n",
    "    l = length\n",
    "    s, i = 0, 0\n",
    "    while(s < half):\n",
    "        s += max(l)\n",
    "        i = length.index(max(l))\n",
    "        l.remove(max(l))\n",
    "    return length[i]"
   ]
  },
  {
   "cell_type": "code",
   "execution_count": 21,
   "metadata": {},
   "outputs": [
    {
     "name": "stdout",
     "output_type": "stream",
     "text": [
      "[69, 70]\n",
      "[41, 83, 5]\n",
      "[34, 63, 74]\n",
      "[88, 64]\n",
      "[2, 93]\n",
      "[20, 7, 52, 99, 14, 46]\n",
      "[27, 89]\n",
      "[33, 85, 9, 48]\n",
      "[51, 49, 53]\n",
      "[54, 31]\n",
      "[86, 55, 25, 11, 57]\n",
      "[73, 94, 35]\n",
      "[87, 17, 6, 39]\n",
      "[0, 67, 61, 97, 22]\n",
      "[83, 1, 45]\n",
      "[1, 59]\n",
      "[7, 38]\n",
      "[10, 92, 15, 21]\n",
      "[15, 77]\n",
      "[36, 65]\n"
     ]
    }
   ],
   "source": [
    "graph, reads = graph_generator(\"example.txt\")\n",
    "tem_graph = graph\n",
    "res = genome_assembly(tem_graph)\n",
    "c = contigs(res, graph)\n",
    "for i in c:\n",
    "    print(i)"
   ]
  },
  {
   "cell_type": "code",
   "execution_count": 23,
   "metadata": {},
   "outputs": [
    {
     "name": "stdout",
     "output_type": "stream",
     "text": [
      "100 reads (length 50000) has N50: 1500\n"
     ]
    }
   ],
   "source": [
    "n50 = N50_Calculator(c, graph)\n",
    "print(\"100 reads (length 50000) has N50:\", n50)"
   ]
  },
  {
   "cell_type": "code",
   "execution_count": null,
   "metadata": {},
   "outputs": [],
   "source": []
  }
 ],
 "metadata": {
  "kernelspec": {
   "display_name": "Python 3",
   "language": "python",
   "name": "python3"
  },
  "language_info": {
   "codemirror_mode": {
    "name": "ipython",
    "version": 3
   },
   "file_extension": ".py",
   "mimetype": "text/x-python",
   "name": "python",
   "nbconvert_exporter": "python",
   "pygments_lexer": "ipython3",
   "version": "3.7.4"
  }
 },
 "nbformat": 4,
 "nbformat_minor": 2
}
